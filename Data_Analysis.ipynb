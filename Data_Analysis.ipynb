{
  "nbformat": 4,
  "nbformat_minor": 0,
  "metadata": {
    "colab": {
      "name": "Data Analysis",
      "version": "0.3.2",
      "provenance": [],
      "collapsed_sections": [],
      "toc_visible": true
    },
    "kernelspec": {
      "name": "python3",
      "display_name": "Python 3"
    },
    "accelerator": "GPU"
  },
  "cells": [
    {
      "metadata": {
        "colab_type": "text",
        "id": "9J7p406abzgl"
      },
      "cell_type": "markdown",
      "source": [
        "<img height=\"60px\" src=\"https://colab.research.google.com/img/colab_favicon.ico\" align=\"left\" hspace=\"20px\" vspace=\"5px\">\n",
        "\n",
        "<h1>Welcome to Colaboratory!</h1>\n",
        "Colaboratory is a free Jupyter notebook environment that requires no setup and runs entirely in the cloud. See our [FAQ](https://research.google.com/colaboratory/faq.html) for more info."
      ]
    },
    {
      "metadata": {
        "id": "55PwWa6LWESf",
        "colab_type": "code",
        "colab": {}
      },
      "cell_type": "code",
      "source": [
        "import numpy as np\n",
        "import pandas as pd\n",
        "import matplotlib.pyplot as plt\n",
        "%matplotlib inline\n",
        "df=pd.read_excel(\"assignment_modelling (1).xlsx\")\n",
        "df1=pd.read_excel(\"test set.xlsx\")\n"
      ],
      "execution_count": 0,
      "outputs": []
    },
    {
      "metadata": {
        "id": "tbOFQWN_XPq9",
        "colab_type": "code",
        "outputId": "81e7ea0b-8a48-4ca3-bf6e-c48fafe23743",
        "colab": {
          "base_uri": "https://localhost:8080/",
          "height": 34
        }
      },
      "cell_type": "code",
      "source": [
        "df.shape #shape of training set"
      ],
      "execution_count": 0,
      "outputs": [
        {
          "output_type": "execute_result",
          "data": {
            "text/plain": [
              "(10000, 10)"
            ]
          },
          "metadata": {
            "tags": []
          },
          "execution_count": 168
        }
      ]
    },
    {
      "metadata": {
        "id": "J4zVEiO_fLGE",
        "colab_type": "code",
        "outputId": "0d9597a0-ccfe-4460-e6b2-a19ab68c4236",
        "colab": {
          "base_uri": "https://localhost:8080/",
          "height": 34
        }
      },
      "cell_type": "code",
      "source": [
        "df1.shape #shape of test set"
      ],
      "execution_count": 0,
      "outputs": [
        {
          "output_type": "execute_result",
          "data": {
            "text/plain": [
              "(4999, 9)"
            ]
          },
          "metadata": {
            "tags": []
          },
          "execution_count": 169
        }
      ]
    },
    {
      "metadata": {
        "colab_type": "code",
        "id": "oPaqEVJRsacz",
        "colab": {}
      },
      "cell_type": "code",
      "source": [
        "df['Success/not success']=df['Success/not success'].astype('category').cat.codes #Converting to numerical"
      ],
      "execution_count": 0,
      "outputs": []
    },
    {
      "metadata": {
        "id": "UY9bXvuBfm9n",
        "colab_type": "code",
        "colab": {}
      },
      "cell_type": "code",
      "source": [
        "df['Domain']=df['Domain'].astype('category').cat.codes #Converting to numerical "
      ],
      "execution_count": 0,
      "outputs": []
    },
    {
      "metadata": {
        "id": "u4TJSWV5fstd",
        "colab_type": "code",
        "colab": {}
      },
      "cell_type": "code",
      "source": [
        "df['Productivity']=df['Productivity'].astype('category').cat.codes #Converting to numerical"
      ],
      "execution_count": 0,
      "outputs": []
    },
    {
      "metadata": {
        "id": "IuTJqS0bzE5j",
        "colab_type": "code",
        "colab": {}
      },
      "cell_type": "code",
      "source": [
        "X=df[['Last_evaluation', 'Number_project', 'Average_montly_hours',\n",
        "       'Time_spend', 'Work_accident', 'Bonus_in_last_5years',\n",
        "       'Satisfaction_level', 'Domain', 'Productivity']]\n",
        "y=df['Success/not success']\n"
      ],
      "execution_count": 0,
      "outputs": []
    },
    {
      "metadata": {
        "id": "F82YUvvwpjP8",
        "colab_type": "code",
        "outputId": "2bf75f89-d1c0-4061-ecbc-f214beeee5d6",
        "colab": {
          "base_uri": "https://localhost:8080/",
          "height": 71
        }
      },
      "cell_type": "code",
      "source": [
        "from sklearn.model_selection import train_test_split\n",
        "X_train,X_test,y_train,y_test=train_test_split(X,y,train_size=0.8,random_state=0) #splitting the data into train and test\n"
      ],
      "execution_count": 0,
      "outputs": [
        {
          "output_type": "stream",
          "text": [
            "/usr/local/lib/python3.6/dist-packages/sklearn/model_selection/_split.py:2179: FutureWarning: From version 0.21, test_size will always complement train_size unless both are specified.\n",
            "  FutureWarning)\n"
          ],
          "name": "stderr"
        }
      ]
    },
    {
      "metadata": {
        "id": "ap0hL1XWOpO1",
        "colab_type": "code",
        "colab": {}
      },
      "cell_type": "code",
      "source": [
        "df1['Domain']=df1['Domain'].astype('category').cat.codes #Converting to numerical"
      ],
      "execution_count": 0,
      "outputs": []
    },
    {
      "metadata": {
        "id": "-J30_bmtOplC",
        "colab_type": "code",
        "colab": {}
      },
      "cell_type": "code",
      "source": [
        "df1['Productivity']=df1['Productivity'].astype('category').cat.codes #Converting to numerical"
      ],
      "execution_count": 0,
      "outputs": []
    },
    {
      "metadata": {
        "id": "HSl8tWoyPBrn",
        "colab_type": "code",
        "colab": {}
      },
      "cell_type": "code",
      "source": [
        "Xt=df1[['Last_evaluation', 'Number_project', 'Average_montly_hours',\n",
        "       'Time_spend', 'Work_accident', 'Bonus_in_last_5years',\n",
        "       'Satisfaction_level', 'Domain', 'Productivity']]\n"
      ],
      "execution_count": 0,
      "outputs": []
    },
    {
      "metadata": {
        "id": "BJgzhwnxPQQn",
        "colab_type": "code",
        "colab": {}
      },
      "cell_type": "code",
      "source": [
        "from sklearn.ensemble import RandomForestClassifier\n",
        "from sklearn.linear_model import LinearRegression  #linear regression\n",
        "regressor = LinearRegression()  \n",
        "k=regressor.fit(X_train, y_train)\n",
        "#y_pred=regressor.predict(X_test)\n",
        "\n",
        "model = RandomForestClassifier(n_estimators=100, max_depth=2, random_state=0)\n",
        "model.fit(X_train, y_train)\n",
        "y_pred = model.predict(X_test)"
      ],
      "execution_count": 0,
      "outputs": []
    },
    {
      "metadata": {
        "colab_type": "code",
        "id": "KJxqFzCzVZ1M",
        "outputId": "6b2e9ea7-e2eb-42bb-a72e-c658d19f65ab",
        "colab": {
          "base_uri": "https://localhost:8080/",
          "height": 51
        }
      },
      "cell_type": "code",
      "source": [
        "from sklearn.metrics import confusion_matrix\n",
        "cm=confusion_matrix(y_test,y_pred)\n",
        "cm"
      ],
      "execution_count": 0,
      "outputs": [
        {
          "output_type": "execute_result",
          "data": {
            "text/plain": [
              "array([[ 264,  109],\n",
              "       [  18, 1609]])"
            ]
          },
          "metadata": {
            "tags": []
          },
          "execution_count": 179
        }
      ]
    },
    {
      "metadata": {
        "id": "1EBmDEecwJ7G",
        "colab_type": "code",
        "outputId": "72ce6699-4807-4f16-920a-60e3252aa253",
        "colab": {
          "base_uri": "https://localhost:8080/",
          "height": 34
        }
      },
      "cell_type": "code",
      "source": [
        "model.score(X_test, y_test) #accuracy on test split of training data"
      ],
      "execution_count": 0,
      "outputs": [
        {
          "output_type": "execute_result",
          "data": {
            "text/plain": [
              "0.9365"
            ]
          },
          "metadata": {
            "tags": []
          },
          "execution_count": 180
        }
      ]
    },
    {
      "metadata": {
        "id": "SJJb7p_JwuZy",
        "colab_type": "code",
        "outputId": "77641d29-d94d-4866-a4bd-804834e0ec79",
        "colab": {
          "base_uri": "https://localhost:8080/",
          "height": 51
        }
      },
      "cell_type": "code",
      "source": [
        "from sklearn.model_selection import cross_val_score\n",
        "print(cross_val_score(model, X_train, y_train, cv=10))"
      ],
      "execution_count": 0,
      "outputs": [
        {
          "output_type": "stream",
          "text": [
            "[0.93632959 0.91885144 0.92384519 0.915      0.92875    0.9125\n",
            " 0.9225     0.91489362 0.93366708 0.92866083]\n"
          ],
          "name": "stdout"
        }
      ]
    },
    {
      "metadata": {
        "id": "QJUdzdKyyi8y",
        "colab_type": "code",
        "outputId": "3245af6a-cf22-4776-a791-23d895066341",
        "colab": {
          "base_uri": "https://localhost:8080/",
          "height": 272
        }
      },
      "cell_type": "code",
      "source": [
        "from pprint import pprint\n",
        "from sklearn.model_selection import GridSearchCV\n",
        "\n",
        "# hyperparameters in model that needs to be tuned\n",
        "parameters = {'n_estimators': [20, 50, 100, 200], \n",
        "              'max_depth': [2, 5, 8, 10],\n",
        "              'criterion': ['gini', 'entropy']}\n",
        "\n",
        "clf = RandomForestClassifier()\n",
        "grid_search = GridSearchCV(clf, parameters, cv=10, n_jobs=-1, verbose=1)\n",
        "print(\"Performing grid search...\")\n",
        "print(\"parameters:\")\n",
        "pprint(parameters)\n",
        "grid_search.fit(X_train, y_train)\n",
        "\n",
        "print(\"Best score: %0.3f\" % grid_search.best_score_)\n",
        "print(\"Best parameters set:\")\n",
        "best_parameters = grid_search.best_estimator_.get_params()\n",
        "for param_name in sorted(parameters.keys()):\n",
        "    print(\"\\t%s: %r\" % (param_name, best_parameters[param_name]))\n",
        "    "
      ],
      "execution_count": 0,
      "outputs": [
        {
          "output_type": "stream",
          "text": [
            "Performing grid search...\n",
            "parameters:\n",
            "{'criterion': ['gini', 'entropy'],\n",
            " 'max_depth': [2, 5, 8, 10],\n",
            " 'n_estimators': [20, 50, 100, 200]}\n",
            "Fitting 10 folds for each of 32 candidates, totalling 320 fits\n"
          ],
          "name": "stdout"
        },
        {
          "output_type": "stream",
          "text": [
            "[Parallel(n_jobs=-1)]: Using backend LokyBackend with 2 concurrent workers.\n",
            "[Parallel(n_jobs=-1)]: Done  46 tasks      | elapsed:   11.0s\n",
            "[Parallel(n_jobs=-1)]: Done 196 tasks      | elapsed:  1.1min\n"
          ],
          "name": "stderr"
        },
        {
          "output_type": "stream",
          "text": [
            "Best score: 0.981\n",
            "Best parameters set:\n",
            "\tcriterion: 'gini'\n",
            "\tmax_depth: 10\n",
            "\tn_estimators: 20\n"
          ],
          "name": "stdout"
        },
        {
          "output_type": "stream",
          "text": [
            "[Parallel(n_jobs=-1)]: Done 320 out of 320 | elapsed:  1.9min finished\n"
          ],
          "name": "stderr"
        }
      ]
    },
    {
      "metadata": {
        "id": "jtwaCNK12lyt",
        "colab_type": "code",
        "colab": {}
      },
      "cell_type": "code",
      "source": [
        "import numpy as np\n",
        "\n",
        "# This is your chosen model. Predict values using this model.predict(X_test)    \n",
        "final_model = grid_search.best_estimator_\n",
        "y_pred = final_model.predict(X_test)\n",
        "\n",
        "y_tes=final_model.predict(Xt)\n"
      ],
      "execution_count": 0,
      "outputs": []
    },
    {
      "metadata": {
        "id": "5xEivqFJG1Un",
        "colab_type": "code",
        "outputId": "9fab1068-8bdd-4009-dc0d-fa90cdc7074a",
        "colab": {
          "base_uri": "https://localhost:8080/",
          "height": 2023
        }
      },
      "cell_type": "code",
      "source": [
        "df2=pd.DataFrame(y_tes,columns=['Predicted Success/not success'])\n",
        "df2['Predicted Success/not success']=np.where(df2['Predicted Success/not success']==1, 'Success', 'Not Success')\n",
        "df1.join(df2)\n",
        "#Displays the predicted classes for the test data set\n"
      ],
      "execution_count": 0,
      "outputs": [
        {
          "output_type": "execute_result",
          "data": {
            "text/html": [
              "<div>\n",
              "<style scoped>\n",
              "    .dataframe tbody tr th:only-of-type {\n",
              "        vertical-align: middle;\n",
              "    }\n",
              "\n",
              "    .dataframe tbody tr th {\n",
              "        vertical-align: top;\n",
              "    }\n",
              "\n",
              "    .dataframe thead th {\n",
              "        text-align: right;\n",
              "    }\n",
              "</style>\n",
              "<table border=\"1\" class=\"dataframe\">\n",
              "  <thead>\n",
              "    <tr style=\"text-align: right;\">\n",
              "      <th></th>\n",
              "      <th>Last_evaluation</th>\n",
              "      <th>Number_project</th>\n",
              "      <th>Average_montly_hours</th>\n",
              "      <th>Time_spend</th>\n",
              "      <th>Work_accident</th>\n",
              "      <th>Bonus_in_last_5years</th>\n",
              "      <th>Satisfaction_level</th>\n",
              "      <th>Domain</th>\n",
              "      <th>Productivity</th>\n",
              "      <th>Predicted Success/not success</th>\n",
              "    </tr>\n",
              "  </thead>\n",
              "  <tbody>\n",
              "    <tr>\n",
              "      <th>0</th>\n",
              "      <td>0.49</td>\n",
              "      <td>4</td>\n",
              "      <td>255</td>\n",
              "      <td>2</td>\n",
              "      <td>0</td>\n",
              "      <td>0</td>\n",
              "      <td>0.93</td>\n",
              "      <td>5</td>\n",
              "      <td>0</td>\n",
              "      <td>Success</td>\n",
              "    </tr>\n",
              "    <tr>\n",
              "      <th>1</th>\n",
              "      <td>0.61</td>\n",
              "      <td>3</td>\n",
              "      <td>213</td>\n",
              "      <td>6</td>\n",
              "      <td>0</td>\n",
              "      <td>0</td>\n",
              "      <td>0.27</td>\n",
              "      <td>4</td>\n",
              "      <td>1</td>\n",
              "      <td>Success</td>\n",
              "    </tr>\n",
              "    <tr>\n",
              "      <th>2</th>\n",
              "      <td>0.63</td>\n",
              "      <td>4</td>\n",
              "      <td>173</td>\n",
              "      <td>3</td>\n",
              "      <td>0</td>\n",
              "      <td>0</td>\n",
              "      <td>0.90</td>\n",
              "      <td>2</td>\n",
              "      <td>2</td>\n",
              "      <td>Success</td>\n",
              "    </tr>\n",
              "    <tr>\n",
              "      <th>3</th>\n",
              "      <td>0.70</td>\n",
              "      <td>6</td>\n",
              "      <td>246</td>\n",
              "      <td>4</td>\n",
              "      <td>0</td>\n",
              "      <td>0</td>\n",
              "      <td>0.16</td>\n",
              "      <td>8</td>\n",
              "      <td>2</td>\n",
              "      <td>Success</td>\n",
              "    </tr>\n",
              "    <tr>\n",
              "      <th>4</th>\n",
              "      <td>0.63</td>\n",
              "      <td>3</td>\n",
              "      <td>148</td>\n",
              "      <td>4</td>\n",
              "      <td>0</td>\n",
              "      <td>0</td>\n",
              "      <td>0.75</td>\n",
              "      <td>9</td>\n",
              "      <td>2</td>\n",
              "      <td>Success</td>\n",
              "    </tr>\n",
              "    <tr>\n",
              "      <th>5</th>\n",
              "      <td>0.74</td>\n",
              "      <td>2</td>\n",
              "      <td>238</td>\n",
              "      <td>3</td>\n",
              "      <td>0</td>\n",
              "      <td>0</td>\n",
              "      <td>0.72</td>\n",
              "      <td>5</td>\n",
              "      <td>2</td>\n",
              "      <td>Success</td>\n",
              "    </tr>\n",
              "    <tr>\n",
              "      <th>6</th>\n",
              "      <td>0.51</td>\n",
              "      <td>3</td>\n",
              "      <td>185</td>\n",
              "      <td>3</td>\n",
              "      <td>0</td>\n",
              "      <td>0</td>\n",
              "      <td>0.68</td>\n",
              "      <td>6</td>\n",
              "      <td>2</td>\n",
              "      <td>Success</td>\n",
              "    </tr>\n",
              "    <tr>\n",
              "      <th>7</th>\n",
              "      <td>0.77</td>\n",
              "      <td>4</td>\n",
              "      <td>201</td>\n",
              "      <td>5</td>\n",
              "      <td>0</td>\n",
              "      <td>0</td>\n",
              "      <td>0.13</td>\n",
              "      <td>6</td>\n",
              "      <td>2</td>\n",
              "      <td>Success</td>\n",
              "    </tr>\n",
              "    <tr>\n",
              "      <th>8</th>\n",
              "      <td>0.92</td>\n",
              "      <td>3</td>\n",
              "      <td>150</td>\n",
              "      <td>2</td>\n",
              "      <td>0</td>\n",
              "      <td>0</td>\n",
              "      <td>0.96</td>\n",
              "      <td>6</td>\n",
              "      <td>2</td>\n",
              "      <td>Success</td>\n",
              "    </tr>\n",
              "    <tr>\n",
              "      <th>9</th>\n",
              "      <td>0.72</td>\n",
              "      <td>4</td>\n",
              "      <td>137</td>\n",
              "      <td>3</td>\n",
              "      <td>0</td>\n",
              "      <td>0</td>\n",
              "      <td>0.71</td>\n",
              "      <td>4</td>\n",
              "      <td>2</td>\n",
              "      <td>Success</td>\n",
              "    </tr>\n",
              "    <tr>\n",
              "      <th>10</th>\n",
              "      <td>0.66</td>\n",
              "      <td>5</td>\n",
              "      <td>189</td>\n",
              "      <td>3</td>\n",
              "      <td>0</td>\n",
              "      <td>0</td>\n",
              "      <td>0.85</td>\n",
              "      <td>4</td>\n",
              "      <td>2</td>\n",
              "      <td>Success</td>\n",
              "    </tr>\n",
              "    <tr>\n",
              "      <th>11</th>\n",
              "      <td>0.91</td>\n",
              "      <td>3</td>\n",
              "      <td>229</td>\n",
              "      <td>3</td>\n",
              "      <td>1</td>\n",
              "      <td>0</td>\n",
              "      <td>0.87</td>\n",
              "      <td>4</td>\n",
              "      <td>2</td>\n",
              "      <td>Success</td>\n",
              "    </tr>\n",
              "    <tr>\n",
              "      <th>12</th>\n",
              "      <td>0.93</td>\n",
              "      <td>3</td>\n",
              "      <td>199</td>\n",
              "      <td>3</td>\n",
              "      <td>1</td>\n",
              "      <td>0</td>\n",
              "      <td>0.86</td>\n",
              "      <td>4</td>\n",
              "      <td>2</td>\n",
              "      <td>Success</td>\n",
              "    </tr>\n",
              "    <tr>\n",
              "      <th>13</th>\n",
              "      <td>0.85</td>\n",
              "      <td>3</td>\n",
              "      <td>250</td>\n",
              "      <td>2</td>\n",
              "      <td>0</td>\n",
              "      <td>0</td>\n",
              "      <td>0.49</td>\n",
              "      <td>4</td>\n",
              "      <td>2</td>\n",
              "      <td>Success</td>\n",
              "    </tr>\n",
              "    <tr>\n",
              "      <th>14</th>\n",
              "      <td>0.59</td>\n",
              "      <td>5</td>\n",
              "      <td>263</td>\n",
              "      <td>3</td>\n",
              "      <td>0</td>\n",
              "      <td>0</td>\n",
              "      <td>0.99</td>\n",
              "      <td>4</td>\n",
              "      <td>0</td>\n",
              "      <td>Success</td>\n",
              "    </tr>\n",
              "    <tr>\n",
              "      <th>15</th>\n",
              "      <td>0.95</td>\n",
              "      <td>3</td>\n",
              "      <td>268</td>\n",
              "      <td>3</td>\n",
              "      <td>1</td>\n",
              "      <td>0</td>\n",
              "      <td>0.75</td>\n",
              "      <td>4</td>\n",
              "      <td>1</td>\n",
              "      <td>Success</td>\n",
              "    </tr>\n",
              "    <tr>\n",
              "      <th>16</th>\n",
              "      <td>0.64</td>\n",
              "      <td>3</td>\n",
              "      <td>187</td>\n",
              "      <td>2</td>\n",
              "      <td>0</td>\n",
              "      <td>0</td>\n",
              "      <td>0.61</td>\n",
              "      <td>4</td>\n",
              "      <td>2</td>\n",
              "      <td>Success</td>\n",
              "    </tr>\n",
              "    <tr>\n",
              "      <th>17</th>\n",
              "      <td>0.84</td>\n",
              "      <td>6</td>\n",
              "      <td>196</td>\n",
              "      <td>4</td>\n",
              "      <td>0</td>\n",
              "      <td>0</td>\n",
              "      <td>0.89</td>\n",
              "      <td>4</td>\n",
              "      <td>2</td>\n",
              "      <td>Success</td>\n",
              "    </tr>\n",
              "    <tr>\n",
              "      <th>18</th>\n",
              "      <td>0.70</td>\n",
              "      <td>4</td>\n",
              "      <td>232</td>\n",
              "      <td>3</td>\n",
              "      <td>0</td>\n",
              "      <td>0</td>\n",
              "      <td>0.77</td>\n",
              "      <td>4</td>\n",
              "      <td>2</td>\n",
              "      <td>Success</td>\n",
              "    </tr>\n",
              "    <tr>\n",
              "      <th>19</th>\n",
              "      <td>0.79</td>\n",
              "      <td>3</td>\n",
              "      <td>226</td>\n",
              "      <td>4</td>\n",
              "      <td>0</td>\n",
              "      <td>0</td>\n",
              "      <td>0.70</td>\n",
              "      <td>4</td>\n",
              "      <td>2</td>\n",
              "      <td>Success</td>\n",
              "    </tr>\n",
              "    <tr>\n",
              "      <th>20</th>\n",
              "      <td>0.58</td>\n",
              "      <td>4</td>\n",
              "      <td>96</td>\n",
              "      <td>3</td>\n",
              "      <td>0</td>\n",
              "      <td>0</td>\n",
              "      <td>0.50</td>\n",
              "      <td>4</td>\n",
              "      <td>1</td>\n",
              "      <td>Success</td>\n",
              "    </tr>\n",
              "    <tr>\n",
              "      <th>21</th>\n",
              "      <td>1.00</td>\n",
              "      <td>4</td>\n",
              "      <td>133</td>\n",
              "      <td>4</td>\n",
              "      <td>0</td>\n",
              "      <td>0</td>\n",
              "      <td>0.61</td>\n",
              "      <td>4</td>\n",
              "      <td>1</td>\n",
              "      <td>Success</td>\n",
              "    </tr>\n",
              "    <tr>\n",
              "      <th>22</th>\n",
              "      <td>0.53</td>\n",
              "      <td>4</td>\n",
              "      <td>214</td>\n",
              "      <td>2</td>\n",
              "      <td>0</td>\n",
              "      <td>0</td>\n",
              "      <td>0.98</td>\n",
              "      <td>4</td>\n",
              "      <td>1</td>\n",
              "      <td>Success</td>\n",
              "    </tr>\n",
              "    <tr>\n",
              "      <th>23</th>\n",
              "      <td>0.77</td>\n",
              "      <td>4</td>\n",
              "      <td>252</td>\n",
              "      <td>2</td>\n",
              "      <td>0</td>\n",
              "      <td>0</td>\n",
              "      <td>0.61</td>\n",
              "      <td>4</td>\n",
              "      <td>1</td>\n",
              "      <td>Success</td>\n",
              "    </tr>\n",
              "    <tr>\n",
              "      <th>24</th>\n",
              "      <td>0.56</td>\n",
              "      <td>3</td>\n",
              "      <td>199</td>\n",
              "      <td>4</td>\n",
              "      <td>0</td>\n",
              "      <td>0</td>\n",
              "      <td>0.85</td>\n",
              "      <td>4</td>\n",
              "      <td>1</td>\n",
              "      <td>Success</td>\n",
              "    </tr>\n",
              "    <tr>\n",
              "      <th>25</th>\n",
              "      <td>0.85</td>\n",
              "      <td>3</td>\n",
              "      <td>150</td>\n",
              "      <td>3</td>\n",
              "      <td>0</td>\n",
              "      <td>0</td>\n",
              "      <td>0.42</td>\n",
              "      <td>4</td>\n",
              "      <td>1</td>\n",
              "      <td>Success</td>\n",
              "    </tr>\n",
              "    <tr>\n",
              "      <th>26</th>\n",
              "      <td>0.75</td>\n",
              "      <td>4</td>\n",
              "      <td>141</td>\n",
              "      <td>3</td>\n",
              "      <td>0</td>\n",
              "      <td>0</td>\n",
              "      <td>0.56</td>\n",
              "      <td>4</td>\n",
              "      <td>1</td>\n",
              "      <td>Success</td>\n",
              "    </tr>\n",
              "    <tr>\n",
              "      <th>27</th>\n",
              "      <td>0.80</td>\n",
              "      <td>4</td>\n",
              "      <td>239</td>\n",
              "      <td>3</td>\n",
              "      <td>0</td>\n",
              "      <td>0</td>\n",
              "      <td>0.88</td>\n",
              "      <td>4</td>\n",
              "      <td>1</td>\n",
              "      <td>Success</td>\n",
              "    </tr>\n",
              "    <tr>\n",
              "      <th>28</th>\n",
              "      <td>0.69</td>\n",
              "      <td>3</td>\n",
              "      <td>139</td>\n",
              "      <td>2</td>\n",
              "      <td>0</td>\n",
              "      <td>0</td>\n",
              "      <td>0.92</td>\n",
              "      <td>2</td>\n",
              "      <td>1</td>\n",
              "      <td>Success</td>\n",
              "    </tr>\n",
              "    <tr>\n",
              "      <th>29</th>\n",
              "      <td>0.77</td>\n",
              "      <td>3</td>\n",
              "      <td>146</td>\n",
              "      <td>4</td>\n",
              "      <td>0</td>\n",
              "      <td>0</td>\n",
              "      <td>0.85</td>\n",
              "      <td>2</td>\n",
              "      <td>1</td>\n",
              "      <td>Success</td>\n",
              "    </tr>\n",
              "    <tr>\n",
              "      <th>...</th>\n",
              "      <td>...</td>\n",
              "      <td>...</td>\n",
              "      <td>...</td>\n",
              "      <td>...</td>\n",
              "      <td>...</td>\n",
              "      <td>...</td>\n",
              "      <td>...</td>\n",
              "      <td>...</td>\n",
              "      <td>...</td>\n",
              "      <td>...</td>\n",
              "    </tr>\n",
              "    <tr>\n",
              "      <th>4969</th>\n",
              "      <td>0.46</td>\n",
              "      <td>2</td>\n",
              "      <td>157</td>\n",
              "      <td>3</td>\n",
              "      <td>0</td>\n",
              "      <td>0</td>\n",
              "      <td>0.43</td>\n",
              "      <td>4</td>\n",
              "      <td>2</td>\n",
              "      <td>Not Success</td>\n",
              "    </tr>\n",
              "    <tr>\n",
              "      <th>4970</th>\n",
              "      <td>0.93</td>\n",
              "      <td>4</td>\n",
              "      <td>225</td>\n",
              "      <td>5</td>\n",
              "      <td>0</td>\n",
              "      <td>0</td>\n",
              "      <td>0.78</td>\n",
              "      <td>4</td>\n",
              "      <td>2</td>\n",
              "      <td>Not Success</td>\n",
              "    </tr>\n",
              "    <tr>\n",
              "      <th>4971</th>\n",
              "      <td>0.45</td>\n",
              "      <td>2</td>\n",
              "      <td>140</td>\n",
              "      <td>3</td>\n",
              "      <td>0</td>\n",
              "      <td>0</td>\n",
              "      <td>0.39</td>\n",
              "      <td>4</td>\n",
              "      <td>2</td>\n",
              "      <td>Not Success</td>\n",
              "    </tr>\n",
              "    <tr>\n",
              "      <th>4972</th>\n",
              "      <td>0.97</td>\n",
              "      <td>6</td>\n",
              "      <td>310</td>\n",
              "      <td>4</td>\n",
              "      <td>0</td>\n",
              "      <td>0</td>\n",
              "      <td>0.11</td>\n",
              "      <td>2</td>\n",
              "      <td>2</td>\n",
              "      <td>Not Success</td>\n",
              "    </tr>\n",
              "    <tr>\n",
              "      <th>4973</th>\n",
              "      <td>0.52</td>\n",
              "      <td>2</td>\n",
              "      <td>143</td>\n",
              "      <td>3</td>\n",
              "      <td>0</td>\n",
              "      <td>0</td>\n",
              "      <td>0.36</td>\n",
              "      <td>2</td>\n",
              "      <td>2</td>\n",
              "      <td>Not Success</td>\n",
              "    </tr>\n",
              "    <tr>\n",
              "      <th>4974</th>\n",
              "      <td>0.54</td>\n",
              "      <td>2</td>\n",
              "      <td>153</td>\n",
              "      <td>3</td>\n",
              "      <td>0</td>\n",
              "      <td>0</td>\n",
              "      <td>0.36</td>\n",
              "      <td>2</td>\n",
              "      <td>2</td>\n",
              "      <td>Not Success</td>\n",
              "    </tr>\n",
              "    <tr>\n",
              "      <th>4975</th>\n",
              "      <td>0.79</td>\n",
              "      <td>7</td>\n",
              "      <td>310</td>\n",
              "      <td>4</td>\n",
              "      <td>0</td>\n",
              "      <td>0</td>\n",
              "      <td>0.10</td>\n",
              "      <td>3</td>\n",
              "      <td>2</td>\n",
              "      <td>Not Success</td>\n",
              "    </tr>\n",
              "    <tr>\n",
              "      <th>4976</th>\n",
              "      <td>0.47</td>\n",
              "      <td>2</td>\n",
              "      <td>136</td>\n",
              "      <td>3</td>\n",
              "      <td>0</td>\n",
              "      <td>0</td>\n",
              "      <td>0.40</td>\n",
              "      <td>3</td>\n",
              "      <td>2</td>\n",
              "      <td>Not Success</td>\n",
              "    </tr>\n",
              "    <tr>\n",
              "      <th>4977</th>\n",
              "      <td>0.85</td>\n",
              "      <td>4</td>\n",
              "      <td>251</td>\n",
              "      <td>6</td>\n",
              "      <td>0</td>\n",
              "      <td>0</td>\n",
              "      <td>0.81</td>\n",
              "      <td>3</td>\n",
              "      <td>2</td>\n",
              "      <td>Not Success</td>\n",
              "    </tr>\n",
              "    <tr>\n",
              "      <th>4978</th>\n",
              "      <td>0.47</td>\n",
              "      <td>2</td>\n",
              "      <td>144</td>\n",
              "      <td>3</td>\n",
              "      <td>0</td>\n",
              "      <td>0</td>\n",
              "      <td>0.40</td>\n",
              "      <td>3</td>\n",
              "      <td>2</td>\n",
              "      <td>Not Success</td>\n",
              "    </tr>\n",
              "    <tr>\n",
              "      <th>4979</th>\n",
              "      <td>0.93</td>\n",
              "      <td>6</td>\n",
              "      <td>296</td>\n",
              "      <td>4</td>\n",
              "      <td>0</td>\n",
              "      <td>0</td>\n",
              "      <td>0.09</td>\n",
              "      <td>9</td>\n",
              "      <td>2</td>\n",
              "      <td>Not Success</td>\n",
              "    </tr>\n",
              "    <tr>\n",
              "      <th>4980</th>\n",
              "      <td>0.89</td>\n",
              "      <td>5</td>\n",
              "      <td>238</td>\n",
              "      <td>5</td>\n",
              "      <td>0</td>\n",
              "      <td>0</td>\n",
              "      <td>0.76</td>\n",
              "      <td>9</td>\n",
              "      <td>0</td>\n",
              "      <td>Not Success</td>\n",
              "    </tr>\n",
              "    <tr>\n",
              "      <th>4981</th>\n",
              "      <td>0.93</td>\n",
              "      <td>5</td>\n",
              "      <td>162</td>\n",
              "      <td>4</td>\n",
              "      <td>0</td>\n",
              "      <td>0</td>\n",
              "      <td>0.73</td>\n",
              "      <td>9</td>\n",
              "      <td>1</td>\n",
              "      <td>Success</td>\n",
              "    </tr>\n",
              "    <tr>\n",
              "      <th>4982</th>\n",
              "      <td>0.49</td>\n",
              "      <td>2</td>\n",
              "      <td>137</td>\n",
              "      <td>3</td>\n",
              "      <td>0</td>\n",
              "      <td>0</td>\n",
              "      <td>0.38</td>\n",
              "      <td>9</td>\n",
              "      <td>2</td>\n",
              "      <td>Not Success</td>\n",
              "    </tr>\n",
              "    <tr>\n",
              "      <th>4983</th>\n",
              "      <td>0.84</td>\n",
              "      <td>5</td>\n",
              "      <td>257</td>\n",
              "      <td>5</td>\n",
              "      <td>0</td>\n",
              "      <td>0</td>\n",
              "      <td>0.72</td>\n",
              "      <td>9</td>\n",
              "      <td>2</td>\n",
              "      <td>Not Success</td>\n",
              "    </tr>\n",
              "    <tr>\n",
              "      <th>4984</th>\n",
              "      <td>0.56</td>\n",
              "      <td>2</td>\n",
              "      <td>148</td>\n",
              "      <td>3</td>\n",
              "      <td>0</td>\n",
              "      <td>0</td>\n",
              "      <td>0.40</td>\n",
              "      <td>9</td>\n",
              "      <td>2</td>\n",
              "      <td>Not Success</td>\n",
              "    </tr>\n",
              "    <tr>\n",
              "      <th>4985</th>\n",
              "      <td>0.99</td>\n",
              "      <td>5</td>\n",
              "      <td>254</td>\n",
              "      <td>5</td>\n",
              "      <td>0</td>\n",
              "      <td>0</td>\n",
              "      <td>0.91</td>\n",
              "      <td>9</td>\n",
              "      <td>2</td>\n",
              "      <td>Not Success</td>\n",
              "    </tr>\n",
              "    <tr>\n",
              "      <th>4986</th>\n",
              "      <td>0.85</td>\n",
              "      <td>4</td>\n",
              "      <td>247</td>\n",
              "      <td>6</td>\n",
              "      <td>0</td>\n",
              "      <td>0</td>\n",
              "      <td>0.85</td>\n",
              "      <td>9</td>\n",
              "      <td>1</td>\n",
              "      <td>Not Success</td>\n",
              "    </tr>\n",
              "    <tr>\n",
              "      <th>4987</th>\n",
              "      <td>0.70</td>\n",
              "      <td>5</td>\n",
              "      <td>206</td>\n",
              "      <td>4</td>\n",
              "      <td>0</td>\n",
              "      <td>0</td>\n",
              "      <td>0.90</td>\n",
              "      <td>9</td>\n",
              "      <td>1</td>\n",
              "      <td>Success</td>\n",
              "    </tr>\n",
              "    <tr>\n",
              "      <th>4988</th>\n",
              "      <td>0.55</td>\n",
              "      <td>2</td>\n",
              "      <td>145</td>\n",
              "      <td>3</td>\n",
              "      <td>0</td>\n",
              "      <td>0</td>\n",
              "      <td>0.46</td>\n",
              "      <td>9</td>\n",
              "      <td>1</td>\n",
              "      <td>Not Success</td>\n",
              "    </tr>\n",
              "    <tr>\n",
              "      <th>4989</th>\n",
              "      <td>0.57</td>\n",
              "      <td>2</td>\n",
              "      <td>159</td>\n",
              "      <td>3</td>\n",
              "      <td>1</td>\n",
              "      <td>0</td>\n",
              "      <td>0.43</td>\n",
              "      <td>9</td>\n",
              "      <td>1</td>\n",
              "      <td>Not Success</td>\n",
              "    </tr>\n",
              "    <tr>\n",
              "      <th>4990</th>\n",
              "      <td>0.88</td>\n",
              "      <td>5</td>\n",
              "      <td>228</td>\n",
              "      <td>5</td>\n",
              "      <td>1</td>\n",
              "      <td>0</td>\n",
              "      <td>0.89</td>\n",
              "      <td>8</td>\n",
              "      <td>1</td>\n",
              "      <td>Not Success</td>\n",
              "    </tr>\n",
              "    <tr>\n",
              "      <th>4991</th>\n",
              "      <td>0.81</td>\n",
              "      <td>6</td>\n",
              "      <td>257</td>\n",
              "      <td>4</td>\n",
              "      <td>0</td>\n",
              "      <td>0</td>\n",
              "      <td>0.09</td>\n",
              "      <td>8</td>\n",
              "      <td>1</td>\n",
              "      <td>Not Success</td>\n",
              "    </tr>\n",
              "    <tr>\n",
              "      <th>4992</th>\n",
              "      <td>0.48</td>\n",
              "      <td>2</td>\n",
              "      <td>155</td>\n",
              "      <td>3</td>\n",
              "      <td>0</td>\n",
              "      <td>0</td>\n",
              "      <td>0.40</td>\n",
              "      <td>8</td>\n",
              "      <td>1</td>\n",
              "      <td>Not Success</td>\n",
              "    </tr>\n",
              "    <tr>\n",
              "      <th>4993</th>\n",
              "      <td>0.83</td>\n",
              "      <td>6</td>\n",
              "      <td>293</td>\n",
              "      <td>6</td>\n",
              "      <td>0</td>\n",
              "      <td>0</td>\n",
              "      <td>0.76</td>\n",
              "      <td>8</td>\n",
              "      <td>1</td>\n",
              "      <td>Not Success</td>\n",
              "    </tr>\n",
              "    <tr>\n",
              "      <th>4994</th>\n",
              "      <td>0.57</td>\n",
              "      <td>2</td>\n",
              "      <td>151</td>\n",
              "      <td>3</td>\n",
              "      <td>0</td>\n",
              "      <td>0</td>\n",
              "      <td>0.40</td>\n",
              "      <td>8</td>\n",
              "      <td>1</td>\n",
              "      <td>Not Success</td>\n",
              "    </tr>\n",
              "    <tr>\n",
              "      <th>4995</th>\n",
              "      <td>0.48</td>\n",
              "      <td>2</td>\n",
              "      <td>160</td>\n",
              "      <td>3</td>\n",
              "      <td>0</td>\n",
              "      <td>0</td>\n",
              "      <td>0.37</td>\n",
              "      <td>8</td>\n",
              "      <td>1</td>\n",
              "      <td>Not Success</td>\n",
              "    </tr>\n",
              "    <tr>\n",
              "      <th>4996</th>\n",
              "      <td>0.53</td>\n",
              "      <td>2</td>\n",
              "      <td>143</td>\n",
              "      <td>3</td>\n",
              "      <td>0</td>\n",
              "      <td>0</td>\n",
              "      <td>0.37</td>\n",
              "      <td>8</td>\n",
              "      <td>1</td>\n",
              "      <td>Not Success</td>\n",
              "    </tr>\n",
              "    <tr>\n",
              "      <th>4997</th>\n",
              "      <td>0.96</td>\n",
              "      <td>6</td>\n",
              "      <td>280</td>\n",
              "      <td>4</td>\n",
              "      <td>0</td>\n",
              "      <td>0</td>\n",
              "      <td>0.11</td>\n",
              "      <td>8</td>\n",
              "      <td>1</td>\n",
              "      <td>Not Success</td>\n",
              "    </tr>\n",
              "    <tr>\n",
              "      <th>4998</th>\n",
              "      <td>0.52</td>\n",
              "      <td>2</td>\n",
              "      <td>158</td>\n",
              "      <td>3</td>\n",
              "      <td>0</td>\n",
              "      <td>0</td>\n",
              "      <td>0.37</td>\n",
              "      <td>8</td>\n",
              "      <td>1</td>\n",
              "      <td>Not Success</td>\n",
              "    </tr>\n",
              "  </tbody>\n",
              "</table>\n",
              "<p>4999 rows × 10 columns</p>\n",
              "</div>"
            ],
            "text/plain": [
              "      Last_evaluation  Number_project  Average_montly_hours  Time_spend  \\\n",
              "0                0.49               4                   255           2   \n",
              "1                0.61               3                   213           6   \n",
              "2                0.63               4                   173           3   \n",
              "3                0.70               6                   246           4   \n",
              "4                0.63               3                   148           4   \n",
              "5                0.74               2                   238           3   \n",
              "6                0.51               3                   185           3   \n",
              "7                0.77               4                   201           5   \n",
              "8                0.92               3                   150           2   \n",
              "9                0.72               4                   137           3   \n",
              "10               0.66               5                   189           3   \n",
              "11               0.91               3                   229           3   \n",
              "12               0.93               3                   199           3   \n",
              "13               0.85               3                   250           2   \n",
              "14               0.59               5                   263           3   \n",
              "15               0.95               3                   268           3   \n",
              "16               0.64               3                   187           2   \n",
              "17               0.84               6                   196           4   \n",
              "18               0.70               4                   232           3   \n",
              "19               0.79               3                   226           4   \n",
              "20               0.58               4                    96           3   \n",
              "21               1.00               4                   133           4   \n",
              "22               0.53               4                   214           2   \n",
              "23               0.77               4                   252           2   \n",
              "24               0.56               3                   199           4   \n",
              "25               0.85               3                   150           3   \n",
              "26               0.75               4                   141           3   \n",
              "27               0.80               4                   239           3   \n",
              "28               0.69               3                   139           2   \n",
              "29               0.77               3                   146           4   \n",
              "...               ...             ...                   ...         ...   \n",
              "4969             0.46               2                   157           3   \n",
              "4970             0.93               4                   225           5   \n",
              "4971             0.45               2                   140           3   \n",
              "4972             0.97               6                   310           4   \n",
              "4973             0.52               2                   143           3   \n",
              "4974             0.54               2                   153           3   \n",
              "4975             0.79               7                   310           4   \n",
              "4976             0.47               2                   136           3   \n",
              "4977             0.85               4                   251           6   \n",
              "4978             0.47               2                   144           3   \n",
              "4979             0.93               6                   296           4   \n",
              "4980             0.89               5                   238           5   \n",
              "4981             0.93               5                   162           4   \n",
              "4982             0.49               2                   137           3   \n",
              "4983             0.84               5                   257           5   \n",
              "4984             0.56               2                   148           3   \n",
              "4985             0.99               5                   254           5   \n",
              "4986             0.85               4                   247           6   \n",
              "4987             0.70               5                   206           4   \n",
              "4988             0.55               2                   145           3   \n",
              "4989             0.57               2                   159           3   \n",
              "4990             0.88               5                   228           5   \n",
              "4991             0.81               6                   257           4   \n",
              "4992             0.48               2                   155           3   \n",
              "4993             0.83               6                   293           6   \n",
              "4994             0.57               2                   151           3   \n",
              "4995             0.48               2                   160           3   \n",
              "4996             0.53               2                   143           3   \n",
              "4997             0.96               6                   280           4   \n",
              "4998             0.52               2                   158           3   \n",
              "\n",
              "      Work_accident  Bonus_in_last_5years  Satisfaction_level  Domain  \\\n",
              "0                 0                     0                0.93       5   \n",
              "1                 0                     0                0.27       4   \n",
              "2                 0                     0                0.90       2   \n",
              "3                 0                     0                0.16       8   \n",
              "4                 0                     0                0.75       9   \n",
              "5                 0                     0                0.72       5   \n",
              "6                 0                     0                0.68       6   \n",
              "7                 0                     0                0.13       6   \n",
              "8                 0                     0                0.96       6   \n",
              "9                 0                     0                0.71       4   \n",
              "10                0                     0                0.85       4   \n",
              "11                1                     0                0.87       4   \n",
              "12                1                     0                0.86       4   \n",
              "13                0                     0                0.49       4   \n",
              "14                0                     0                0.99       4   \n",
              "15                1                     0                0.75       4   \n",
              "16                0                     0                0.61       4   \n",
              "17                0                     0                0.89       4   \n",
              "18                0                     0                0.77       4   \n",
              "19                0                     0                0.70       4   \n",
              "20                0                     0                0.50       4   \n",
              "21                0                     0                0.61       4   \n",
              "22                0                     0                0.98       4   \n",
              "23                0                     0                0.61       4   \n",
              "24                0                     0                0.85       4   \n",
              "25                0                     0                0.42       4   \n",
              "26                0                     0                0.56       4   \n",
              "27                0                     0                0.88       4   \n",
              "28                0                     0                0.92       2   \n",
              "29                0                     0                0.85       2   \n",
              "...             ...                   ...                 ...     ...   \n",
              "4969              0                     0                0.43       4   \n",
              "4970              0                     0                0.78       4   \n",
              "4971              0                     0                0.39       4   \n",
              "4972              0                     0                0.11       2   \n",
              "4973              0                     0                0.36       2   \n",
              "4974              0                     0                0.36       2   \n",
              "4975              0                     0                0.10       3   \n",
              "4976              0                     0                0.40       3   \n",
              "4977              0                     0                0.81       3   \n",
              "4978              0                     0                0.40       3   \n",
              "4979              0                     0                0.09       9   \n",
              "4980              0                     0                0.76       9   \n",
              "4981              0                     0                0.73       9   \n",
              "4982              0                     0                0.38       9   \n",
              "4983              0                     0                0.72       9   \n",
              "4984              0                     0                0.40       9   \n",
              "4985              0                     0                0.91       9   \n",
              "4986              0                     0                0.85       9   \n",
              "4987              0                     0                0.90       9   \n",
              "4988              0                     0                0.46       9   \n",
              "4989              1                     0                0.43       9   \n",
              "4990              1                     0                0.89       8   \n",
              "4991              0                     0                0.09       8   \n",
              "4992              0                     0                0.40       8   \n",
              "4993              0                     0                0.76       8   \n",
              "4994              0                     0                0.40       8   \n",
              "4995              0                     0                0.37       8   \n",
              "4996              0                     0                0.37       8   \n",
              "4997              0                     0                0.11       8   \n",
              "4998              0                     0                0.37       8   \n",
              "\n",
              "      Productivity Predicted Success/not success  \n",
              "0                0                       Success  \n",
              "1                1                       Success  \n",
              "2                2                       Success  \n",
              "3                2                       Success  \n",
              "4                2                       Success  \n",
              "5                2                       Success  \n",
              "6                2                       Success  \n",
              "7                2                       Success  \n",
              "8                2                       Success  \n",
              "9                2                       Success  \n",
              "10               2                       Success  \n",
              "11               2                       Success  \n",
              "12               2                       Success  \n",
              "13               2                       Success  \n",
              "14               0                       Success  \n",
              "15               1                       Success  \n",
              "16               2                       Success  \n",
              "17               2                       Success  \n",
              "18               2                       Success  \n",
              "19               2                       Success  \n",
              "20               1                       Success  \n",
              "21               1                       Success  \n",
              "22               1                       Success  \n",
              "23               1                       Success  \n",
              "24               1                       Success  \n",
              "25               1                       Success  \n",
              "26               1                       Success  \n",
              "27               1                       Success  \n",
              "28               1                       Success  \n",
              "29               1                       Success  \n",
              "...            ...                           ...  \n",
              "4969             2                   Not Success  \n",
              "4970             2                   Not Success  \n",
              "4971             2                   Not Success  \n",
              "4972             2                   Not Success  \n",
              "4973             2                   Not Success  \n",
              "4974             2                   Not Success  \n",
              "4975             2                   Not Success  \n",
              "4976             2                   Not Success  \n",
              "4977             2                   Not Success  \n",
              "4978             2                   Not Success  \n",
              "4979             2                   Not Success  \n",
              "4980             0                   Not Success  \n",
              "4981             1                       Success  \n",
              "4982             2                   Not Success  \n",
              "4983             2                   Not Success  \n",
              "4984             2                   Not Success  \n",
              "4985             2                   Not Success  \n",
              "4986             1                   Not Success  \n",
              "4987             1                       Success  \n",
              "4988             1                   Not Success  \n",
              "4989             1                   Not Success  \n",
              "4990             1                   Not Success  \n",
              "4991             1                   Not Success  \n",
              "4992             1                   Not Success  \n",
              "4993             1                   Not Success  \n",
              "4994             1                   Not Success  \n",
              "4995             1                   Not Success  \n",
              "4996             1                   Not Success  \n",
              "4997             1                   Not Success  \n",
              "4998             1                   Not Success  \n",
              "\n",
              "[4999 rows x 10 columns]"
            ]
          },
          "metadata": {
            "tags": []
          },
          "execution_count": 184
        }
      ]
    },
    {
      "metadata": {
        "id": "4A3Rz-LfKdlw",
        "colab_type": "code",
        "outputId": "803ce29d-285d-4d4c-e5c8-bebfd8973ece",
        "colab": {
          "base_uri": "https://localhost:8080/",
          "height": 294
        }
      },
      "cell_type": "code",
      "source": [
        "from sklearn import metrics\n",
        "\n",
        "probs = final_model.predict_proba(X_test)\n",
        "preds = probs[:,1]\n",
        "fpr, tpr, threshold = metrics.roc_curve(y_test, preds)\n",
        "roc_auc = metrics.auc(fpr, tpr)\n",
        "\n",
        "# method I: plt\n",
        "import matplotlib.pyplot as plt\n",
        "plt.title('Receiver Operating Characteristic')\n",
        "plt.plot(fpr, tpr, 'b', label = 'AUC = %0.2f' % roc_auc)\n",
        "plt.legend(loc = 'lower right')\n",
        "plt.plot([0, 1], [0, 1],'r--')\n",
        "plt.xlim([0, 1])\n",
        "plt.ylim([0, 1])\n",
        "plt.ylabel('True Positive Rate')\n",
        "plt.xlabel('False Positive Rate')\n",
        "plt.show()"
      ],
      "execution_count": 0,
      "outputs": [
        {
          "output_type": "display_data",
          "data": {
            "image/png": "[encoded data removed]",
            "text/plain": [
              "<Figure size 432x288 with 1 Axes>"
            ]
          },
          "metadata": {
            "tags": []
          }
        }
      ]
    },
    {
      "metadata": {
        "id": "V4e0Xbkb8ctN",
        "colab_type": "code",
        "colab": {}
      },
      "cell_type": "code",
      "source": [
        ""
      ],
      "execution_count": 0,
      "outputs": []
    },
    {
      "metadata": {
        "colab_type": "text",
        "id": "-Rh3-Vt9Nev9"
      },
      "cell_type": "markdown",
      "source": [
        "## Getting Started\n",
        "- [Overview of Colaboratory](/notebooks/basic_features_overview.ipynb)\n",
        "- [Loading and saving data: Local files, Drive, Sheets, Google Cloud Storage](/notebooks/io.ipynb)\n",
        "- [Importing libraries and installing dependencies](/notebooks/snippets/importing_libraries.ipynb)\n",
        "- [Using Google Cloud BigQuery](/notebooks/bigquery.ipynb)\n",
        "- [Forms](/notebooks/forms.ipynb), [Charts](/notebooks/charts.ipynb), [Markdown](/notebooks/markdown_guide.ipynb), & [Widgets](/notebooks/widgets.ipynb)\n",
        "- [TensorFlow with GPU](/notebooks/gpu.ipynb)\n",
        "- [TensorFlow with TPU](/notebooks/tpu.ipynb)\n",
        "- [Machine Learning Crash Course](https://developers.google.com/machine-learning/crash-course/): [Intro to Pandas](/notebooks/mlcc/intro_to_pandas.ipynb) & [First Steps with TensorFlow](/notebooks/mlcc/first_steps_with_tensor_flow.ipynb)\n",
        "- [Using Colab with GitHub](https://colab.research.google.com/github/googlecolab/colabtools/blob/master/notebooks/colab-github-demo.ipynb)\n"
      ]
    },
    {
      "metadata": {
        "colab_type": "text",
        "id": "1fr51oVCHRZU"
      },
      "cell_type": "markdown",
      "source": [
        "## Highlighted Features\n",
        "### Seedbank\n",
        "\n",
        "Looking for Colab notebooks to learn from? Check out [Seedbank](https://tools.google.com/seedbank/), a place to discover interactive machine learning examples."
      ]
    },
    {
      "metadata": {
        "colab_type": "text",
        "id": "9wi5kfGdhK0R"
      },
      "cell_type": "markdown",
      "source": [
        "### TensorFlow execution"
      ]
    },
    {
      "metadata": {
        "colab_type": "text",
        "id": "S9GW-n-oYWIj"
      },
      "cell_type": "markdown",
      "source": [
        "Colaboratory allows you to execute TensorFlow code in your browser with a single click. The example below adds two matrices.\n",
        "\n",
        "$\\begin{bmatrix}\n",
        "  1. & 1. & 1. \\\\\n",
        "  1. & 1. & 1. \\\\\n",
        "\\end{bmatrix} +\n",
        "\\begin{bmatrix}\n",
        "  1. & 2. & 3. \\\\\n",
        "  4. & 5. & 6. \\\\\n",
        "\\end{bmatrix} =\n",
        "\\begin{bmatrix}\n",
        "  2. & 3. & 4. \\\\\n",
        "  5. & 6. & 7. \\\\\n",
        "\\end{bmatrix}$"
      ]
    },
    {
      "metadata": {
        "colab_type": "code",
        "id": "oYZkU7ZN3CL0",
        "outputId": "9589151d-5ff4-4bca-f05e-8bcba8ffcba1",
        "colab": {
          "base_uri": "https://localhost:8080/",
          "height": 53
        }
      },
      "cell_type": "code",
      "source": [
        "import tensorflow as tf\n",
        "\n",
        "input1 = tf.ones((2, 3))\n",
        "input2 = tf.reshape(tf.range(1, 7, dtype=tf.float32), (2, 3))\n",
        "output = input1 + input2\n",
        "\n",
        "with tf.Session():\n",
        "  result = output.eval()\n",
        "result  "
      ],
      "execution_count": 0,
      "outputs": [
        {
          "output_type": "execute_result",
          "data": {
            "text/plain": [
              "array([[2., 3., 4.],\n",
              "       [5., 6., 7.]], dtype=float32)"
            ]
          },
          "metadata": {
            "tags": []
          },
          "execution_count": 0
        }
      ]
    },
    {
      "metadata": {
        "colab_type": "text",
        "id": "nwYF0E3Sjiy4"
      },
      "cell_type": "markdown",
      "source": [
        "### GitHub\n",
        "\n",
        "For a full discussion of interactions between Colab and GitHub, see [Using Colab with GitHub](https://colab.research.google.com/github/googlecolab/colabtools/blob/master/notebooks/colab-github-demo.ipynb). As a brief summary:\n",
        "\n",
        "To save a copy of your Colab notebook to Github, select *File → Save a copy to GitHub…*\n",
        "\n",
        "To load a specific notebook from github, append the github path to http://colab.research.google.com/github/.\n",
        "For example to load this notebook in Colab: [https://github.com/tensorflow/docs/blob/master/site/en/tutorials/_index.ipynb](https://github.com/tensorflow/docs/blob/master/site/en/tutorials/_index.ipynb) use the following Colab URL: [https://colab.research.google.com/github/tensorflow/docs/blob/master/site/en/tutorials/_index.ipynb](https://colab.research.google.com/github/tensorflow/docs/blob/master/site/en/tutorials/_index.ipynb)\n",
        "\n",
        "To open a github notebook in one click, we recommend installing the [Open in Colab Chrome Extension](https://chrome.google.com/webstore/detail/open-in-colab/iogfkhleblhcpcekbiedikdehleodpjo).\n",
        "\n"
      ]
    },
    {
      "metadata": {
        "colab_type": "text",
        "id": "yv2XIwi5hQ_g"
      },
      "cell_type": "markdown",
      "source": [
        "### Visualization"
      ]
    },
    {
      "metadata": {
        "colab_type": "text",
        "id": "rYs5mx2JZkmy"
      },
      "cell_type": "markdown",
      "source": [
        "Colaboratory includes widely used libraries like [matplotlib](https://matplotlib.org/), simplifying visualization."
      ]
    },
    {
      "metadata": {
        "colab_type": "code",
        "id": "xqrc5C-IaA5J",
        "outputId": "3460cc84-faf8-4d8c-a4e6-96a6809c389a",
        "colab": {
          "height": 360
        }
      },
      "cell_type": "code",
      "source": [
        "import matplotlib.pyplot as plt\n",
        "import numpy as np\n",
        "\n",
        "x = np.arange(20)\n",
        "y = [x_i + np.random.randn(1) for x_i in x]\n",
        "a, b = np.polyfit(x, y, 1)\n",
        "_ = plt.plot(x, y, 'o', np.arange(20), a*np.arange(20)+b, '-')"
      ],
      "execution_count": 0,
      "outputs": [
        {
          "output_type": "display_data",
          "data": {
            "image/png": "[encoded data removed]",
            "text/plain": [
              "<matplotlib.figure.Figure at 0x562d64cf1b10>"
            ]
          },
          "metadata": {
            "tags": []
          }
        }
      ]
    },
    {
      "metadata": {
        "colab_type": "text",
        "id": "AN_LRQ9NkOjs"
      },
      "cell_type": "markdown",
      "source": [
        "Want to use a new library?  `pip install` it at the top of the notebook. Then that library can be used anywhere else in the notebook. For recipes to import commonly used libraries, refer to the [importing libraries example notebook](/notebooks/snippets/importing_libraries.ipynb)."
      ]
    },
    {
      "metadata": {
        "colab_type": "code",
        "id": "FlQq0SUepQbd",
        "outputId": "6e404831-3336-4633-b76f-c6313ecdd356",
        "colab": {
          "base_uri": "https://localhost:8080/",
          "height": 349
        }
      },
      "cell_type": "code",
      "source": [
        "!pip install -q matplotlib-venn\n",
        "\n",
        "from matplotlib_venn import venn2\n",
        "_ = venn2(subsets = (3, 2, 1))"
      ],
      "execution_count": 0,
      "outputs": [
        {
          "output_type": "display_data",
          "data": {
            "image/png": "[encoded data removed]",
            "text/plain": [
              "<matplotlib.figure.Figure at 0x7f48ff99ff10>"
            ]
          },
          "metadata": {
            "tags": []
          }
        }
      ]
    },
    {
      "metadata": {
        "colab_type": "text",
        "id": "LxZ3dPzYnyNF"
      },
      "cell_type": "markdown",
      "source": [
        "### Forms\n",
        "\n",
        "Forms can be used to parameterize code. See the [forms example notebook](/notebooks/forms.ipynb) for more details."
      ]
    },
    {
      "metadata": {
        "colab_type": "code",
        "id": "FQ_Hx_9tn7uF",
        "colab": {}
      },
      "cell_type": "code",
      "source": [
        "#@title Examples\n",
        "\n",
        "text = 'value' #@param \n",
        "date_input = '2018-03-22' #@param {type:\"date\"}\n",
        "number_slider = 0 #@param {type:\"slider\", min:-1, max:1, step:0.1}\n",
        "dropdown = '1st option' #@param [\"1st option\", \"2nd option\", \"3rd option\"]\n"
      ],
      "execution_count": 0,
      "outputs": []
    },
    {
      "metadata": {
        "colab_type": "text",
        "id": "rTX3heEtu0b2"
      },
      "cell_type": "markdown",
      "source": [
        "### Local runtime support\n",
        "\n",
        "Colab  supports connecting to a Jupyter runtime on your local machine. For more information, see our [documentation](https://research.google.com/colaboratory/local-runtimes.html)."
      ]
    }
  ]
}